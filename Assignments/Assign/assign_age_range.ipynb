{
 "cells": [
  {
   "cell_type": "code",
   "execution_count": 1,
   "id": "99c5cb4b-7a01-4130-a968-90862eedbf23",
   "metadata": {},
   "outputs": [],
   "source": [
    "from pyspark.sql import SparkSession\n",
    "\n",
    "spark = SparkSession.builder.master('local').appName('assign_age_range').getOrCreate()"
   ]
  },
  {
   "cell_type": "code",
   "execution_count": 2,
   "id": "0950af2e-7509-416e-ba81-1168a1f37456",
   "metadata": {},
   "outputs": [],
   "source": [
    "people = [\n",
    "    ('김민지',10),\n",
    "    ('이준호',45),\n",
    "    ('박서연',23),\n",
    "    ('정성우',11),\n",
    "    ('최지원',71),\n",
    "    ('강현우',38),\n",
    "    ('윤서진',80),\n",
    "    ('한예린',35),\n",
    "    ('임승현',66),\n",
    "    ('송지우',55)\n",
    "]\n",
    "    "
   ]
  },
  {
   "cell_type": "code",
   "execution_count": 3,
   "id": "c7db54b9-5741-49a1-b43a-d29eb4c7c848",
   "metadata": {},
   "outputs": [],
   "source": [
    "schema = ['name', 'age']"
   ]
  },
  {
   "cell_type": "code",
   "execution_count": 4,
   "id": "3d91be9a-6493-4edc-9bb0-5f9df36cdaea",
   "metadata": {},
   "outputs": [],
   "source": [
    "df = spark.createDataFrame(data = people , schema = schema)"
   ]
  },
  {
   "cell_type": "code",
   "execution_count": 5,
   "id": "a6081b45-4c73-4767-9fe7-ff8c7b27a5e7",
   "metadata": {},
   "outputs": [
    {
     "name": "stdout",
     "output_type": "stream",
     "text": [
      "+------+---+\n",
      "|  name|age|\n",
      "+------+---+\n",
      "|김민지| 10|\n",
      "|이준호| 45|\n",
      "|박서연| 23|\n",
      "|정성우| 11|\n",
      "|최지원| 71|\n",
      "|강현우| 38|\n",
      "|윤서진| 80|\n",
      "|한예린| 35|\n",
      "|임승현| 66|\n",
      "|송지우| 55|\n",
      "+------+---+\n",
      "\n"
     ]
    }
   ],
   "source": [
    "df.show()"
   ]
  },
  {
   "cell_type": "code",
   "execution_count": 6,
   "id": "0581d32f-5736-48a2-b108-b6544cc55b35",
   "metadata": {},
   "outputs": [],
   "source": [
    "df.createOrReplaceTempView('people')"
   ]
  },
  {
   "cell_type": "code",
   "execution_count": 14,
   "id": "d3f5a3ae-d645-4bba-a6c2-920bb27cb06f",
   "metadata": {},
   "outputs": [
    {
     "data": {
      "text/plain": [
       "<function __main__.age_category(age)>"
      ]
     },
     "execution_count": 14,
     "metadata": {},
     "output_type": "execute_result"
    }
   ],
   "source": [
    "from pyspark.sql.functions import udf\n",
    "\n",
    "def age_category(age):\n",
    "    if age >= 0 and age < 35 : return 'young'\n",
    "    elif age >= 35 and age < 60 : return 'adult'\n",
    "    elif age >= 60 : return 'senior'\n",
    "\n",
    "spark.udf.register(\"age_category\",age_category)"
   ]
  },
  {
   "cell_type": "code",
   "execution_count": 16,
   "id": "da8d2750-9df2-4878-95e0-5373a72ceaa6",
   "metadata": {},
   "outputs": [
    {
     "name": "stdout",
     "output_type": "stream",
     "text": [
      "+------+-----------------+\n",
      "|  name|age_category(age)|\n",
      "+------+-----------------+\n",
      "|김민지|            young|\n",
      "|이준호|            adult|\n",
      "|박서연|            young|\n",
      "|정성우|            young|\n",
      "|최지원|           senior|\n",
      "|강현우|            adult|\n",
      "|윤서진|           senior|\n",
      "|한예린|            adult|\n",
      "|임승현|           senior|\n",
      "|송지우|            adult|\n",
      "+------+-----------------+\n",
      "\n"
     ]
    }
   ],
   "source": [
    "spark.sql(\"SELECT name, age_category(age) FROM people\").show()"
   ]
  },
  {
   "cell_type": "code",
   "execution_count": null,
   "id": "3f6e2cad-ad7f-4b09-9191-6f9a40a58247",
   "metadata": {},
   "outputs": [],
   "source": []
  }
 ],
 "metadata": {
  "kernelspec": {
   "display_name": "Python 3 (ipykernel)",
   "language": "python",
   "name": "python3"
  },
  "language_info": {
   "codemirror_mode": {
    "name": "ipython",
    "version": 3
   },
   "file_extension": ".py",
   "mimetype": "text/x-python",
   "name": "python",
   "nbconvert_exporter": "python",
   "pygments_lexer": "ipython3",
   "version": "3.9.13"
  }
 },
 "nbformat": 4,
 "nbformat_minor": 5
}
